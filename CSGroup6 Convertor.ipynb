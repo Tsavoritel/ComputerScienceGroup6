{
 "cells": [
  {
   "cell_type": "markdown",
   "id": "930a15c6-31d9-4461-aab9-0cce19d2b3a0",
   "metadata": {},
   "source": [
    "# Assignment 5\n",
    "## Project and peer review\n",
    "## Converter"
   ]
  }
 ],
 "metadata": {
  "kernelspec": {
   "display_name": "Python 3 (ipykernel)",
   "language": "python",
   "name": "python3"
  },
  "language_info": {
   "codemirror_mode": {
    "name": "ipython",
    "version": 3
   },
   "file_extension": ".py",
   "mimetype": "text/x-python",
   "name": "python",
   "nbconvert_exporter": "python",
   "pygments_lexer": "ipython3",
   "version": "3.13.7"
  }
 },
 "nbformat": 4,
 "nbformat_minor": 5
}
